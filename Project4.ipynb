{
 "cells": [
  {
   "cell_type": "code",
   "execution_count": 14,
   "id": "cbfd8e83",
   "metadata": {},
   "outputs": [],
   "source": [
    "import numpy as np\n",
    "import pandas as pd\n",
    "from sklearn.preprocessing import LabelEncoder, MinMaxScaler\n",
    "from sklearn.model_selection import train_test_split\n",
    "from sklearn.ensemble import RandomForestClassifier\n",
    "from sklearn.svm import SVC\n",
    "from sklearn.metrics import classification_report"
   ]
  },
  {
   "cell_type": "code",
   "execution_count": 3,
   "id": "b2dc0210",
   "metadata": {},
   "outputs": [],
   "source": [
    "df = pd.read_csv('Project4.csv')"
   ]
  },
  {
   "cell_type": "code",
   "execution_count": 4,
   "id": "f216c243",
   "metadata": {},
   "outputs": [
    {
     "data": {
      "text/html": [
       "<div>\n",
       "<style scoped>\n",
       "    .dataframe tbody tr th:only-of-type {\n",
       "        vertical-align: middle;\n",
       "    }\n",
       "\n",
       "    .dataframe tbody tr th {\n",
       "        vertical-align: top;\n",
       "    }\n",
       "\n",
       "    .dataframe thead th {\n",
       "        text-align: right;\n",
       "    }\n",
       "</style>\n",
       "<table border=\"1\" class=\"dataframe\">\n",
       "  <thead>\n",
       "    <tr style=\"text-align: right;\">\n",
       "      <th></th>\n",
       "      <th>ProductID</th>\n",
       "      <th>ProductType</th>\n",
       "      <th>Region</th>\n",
       "      <th>UnitsSold</th>\n",
       "      <th>OnPromotion</th>\n",
       "      <th>DemandCategory</th>\n",
       "    </tr>\n",
       "  </thead>\n",
       "  <tbody>\n",
       "    <tr>\n",
       "      <th>0</th>\n",
       "      <td>edb820</td>\n",
       "      <td>Clothing</td>\n",
       "      <td>West</td>\n",
       "      <td>306</td>\n",
       "      <td>0</td>\n",
       "      <td>High</td>\n",
       "    </tr>\n",
       "    <tr>\n",
       "      <th>1</th>\n",
       "      <td>5b31ca</td>\n",
       "      <td>Gadget</td>\n",
       "      <td>West</td>\n",
       "      <td>231</td>\n",
       "      <td>1</td>\n",
       "      <td>High</td>\n",
       "    </tr>\n",
       "    <tr>\n",
       "      <th>2</th>\n",
       "      <td>30d43e</td>\n",
       "      <td>Clothing</td>\n",
       "      <td>West</td>\n",
       "      <td>400</td>\n",
       "      <td>1</td>\n",
       "      <td>High</td>\n",
       "    </tr>\n",
       "    <tr>\n",
       "      <th>3</th>\n",
       "      <td>fd9f14</td>\n",
       "      <td>Gadget</td>\n",
       "      <td>East</td>\n",
       "      <td>226</td>\n",
       "      <td>1</td>\n",
       "      <td>High</td>\n",
       "    </tr>\n",
       "    <tr>\n",
       "      <th>4</th>\n",
       "      <td>5e999c</td>\n",
       "      <td>Clothing</td>\n",
       "      <td>West</td>\n",
       "      <td>162</td>\n",
       "      <td>1</td>\n",
       "      <td>Medium</td>\n",
       "    </tr>\n",
       "  </tbody>\n",
       "</table>\n",
       "</div>"
      ],
      "text/plain": [
       "  ProductID ProductType Region  UnitsSold  OnPromotion DemandCategory\n",
       "0    edb820    Clothing   West        306            0           High\n",
       "1    5b31ca      Gadget   West        231            1           High\n",
       "2    30d43e    Clothing   West        400            1           High\n",
       "3    fd9f14      Gadget   East        226            1           High\n",
       "4    5e999c    Clothing   West        162            1         Medium"
      ]
     },
     "execution_count": 4,
     "metadata": {},
     "output_type": "execute_result"
    }
   ],
   "source": [
    "df.head()"
   ]
  },
  {
   "cell_type": "code",
   "execution_count": null,
   "id": "df1edc4a",
   "metadata": {},
   "outputs": [
    {
     "data": {
      "text/plain": [
       "ProductID         0\n",
       "ProductType       0\n",
       "Region            0\n",
       "UnitsSold         0\n",
       "OnPromotion       0\n",
       "DemandCategory    0\n",
       "dtype: int64"
      ]
     },
     "execution_count": 5,
     "metadata": {},
     "output_type": "execute_result"
    }
   ],
   "source": [
    "df.isnull().sum() #no nulls"
   ]
  },
  {
   "cell_type": "code",
   "execution_count": 6,
   "id": "b5bc4033",
   "metadata": {},
   "outputs": [],
   "source": [
    "# Encoding categorical variables\n",
    "label_cols = ['ProductType', 'Region', 'DemandCategory']\n",
    "label_encoders = {}"
   ]
  },
  {
   "cell_type": "code",
   "execution_count": 7,
   "id": "94932afb",
   "metadata": {},
   "outputs": [],
   "source": [
    "for col in label_cols:\n",
    "    le = LabelEncoder()\n",
    "    df[col + '_Encoded'] = le.fit_transform(df[col])\n",
    "    label_encoders[col] = le  "
   ]
  },
  {
   "cell_type": "code",
   "execution_count": 11,
   "id": "f8818139",
   "metadata": {},
   "outputs": [
    {
     "data": {
      "text/html": [
       "<div>\n",
       "<style scoped>\n",
       "    .dataframe tbody tr th:only-of-type {\n",
       "        vertical-align: middle;\n",
       "    }\n",
       "\n",
       "    .dataframe tbody tr th {\n",
       "        vertical-align: top;\n",
       "    }\n",
       "\n",
       "    .dataframe thead th {\n",
       "        text-align: right;\n",
       "    }\n",
       "</style>\n",
       "<table border=\"1\" class=\"dataframe\">\n",
       "  <thead>\n",
       "    <tr style=\"text-align: right;\">\n",
       "      <th></th>\n",
       "      <th>ProductID</th>\n",
       "      <th>ProductType</th>\n",
       "      <th>Region</th>\n",
       "      <th>UnitsSold</th>\n",
       "      <th>OnPromotion</th>\n",
       "      <th>DemandCategory</th>\n",
       "      <th>ProductType_Encoded</th>\n",
       "      <th>Region_Encoded</th>\n",
       "      <th>DemandCategory_Encoded</th>\n",
       "      <th>AvgSalesPerDay</th>\n",
       "      <th>PromoFrequency</th>\n",
       "    </tr>\n",
       "  </thead>\n",
       "  <tbody>\n",
       "    <tr>\n",
       "      <th>0</th>\n",
       "      <td>edb820</td>\n",
       "      <td>Clothing</td>\n",
       "      <td>West</td>\n",
       "      <td>306</td>\n",
       "      <td>0</td>\n",
       "      <td>High</td>\n",
       "      <td>1</td>\n",
       "      <td>3</td>\n",
       "      <td>0</td>\n",
       "      <td>43.714286</td>\n",
       "      <td>0.0</td>\n",
       "    </tr>\n",
       "    <tr>\n",
       "      <th>1</th>\n",
       "      <td>5b31ca</td>\n",
       "      <td>Gadget</td>\n",
       "      <td>West</td>\n",
       "      <td>231</td>\n",
       "      <td>1</td>\n",
       "      <td>High</td>\n",
       "      <td>2</td>\n",
       "      <td>3</td>\n",
       "      <td>0</td>\n",
       "      <td>33.000000</td>\n",
       "      <td>1.0</td>\n",
       "    </tr>\n",
       "    <tr>\n",
       "      <th>2</th>\n",
       "      <td>30d43e</td>\n",
       "      <td>Clothing</td>\n",
       "      <td>West</td>\n",
       "      <td>400</td>\n",
       "      <td>1</td>\n",
       "      <td>High</td>\n",
       "      <td>1</td>\n",
       "      <td>3</td>\n",
       "      <td>0</td>\n",
       "      <td>57.142857</td>\n",
       "      <td>1.0</td>\n",
       "    </tr>\n",
       "    <tr>\n",
       "      <th>3</th>\n",
       "      <td>fd9f14</td>\n",
       "      <td>Gadget</td>\n",
       "      <td>East</td>\n",
       "      <td>226</td>\n",
       "      <td>1</td>\n",
       "      <td>High</td>\n",
       "      <td>2</td>\n",
       "      <td>0</td>\n",
       "      <td>0</td>\n",
       "      <td>32.285714</td>\n",
       "      <td>1.0</td>\n",
       "    </tr>\n",
       "    <tr>\n",
       "      <th>4</th>\n",
       "      <td>5e999c</td>\n",
       "      <td>Clothing</td>\n",
       "      <td>West</td>\n",
       "      <td>162</td>\n",
       "      <td>1</td>\n",
       "      <td>Medium</td>\n",
       "      <td>1</td>\n",
       "      <td>3</td>\n",
       "      <td>2</td>\n",
       "      <td>23.142857</td>\n",
       "      <td>1.0</td>\n",
       "    </tr>\n",
       "  </tbody>\n",
       "</table>\n",
       "</div>"
      ],
      "text/plain": [
       "  ProductID ProductType Region  UnitsSold  OnPromotion DemandCategory  \\\n",
       "0    edb820    Clothing   West        306            0           High   \n",
       "1    5b31ca      Gadget   West        231            1           High   \n",
       "2    30d43e    Clothing   West        400            1           High   \n",
       "3    fd9f14      Gadget   East        226            1           High   \n",
       "4    5e999c    Clothing   West        162            1         Medium   \n",
       "\n",
       "   ProductType_Encoded  Region_Encoded  DemandCategory_Encoded  \\\n",
       "0                    1               3                       0   \n",
       "1                    2               3                       0   \n",
       "2                    1               3                       0   \n",
       "3                    2               0                       0   \n",
       "4                    1               3                       2   \n",
       "\n",
       "   AvgSalesPerDay  PromoFrequency  \n",
       "0       43.714286             0.0  \n",
       "1       33.000000             1.0  \n",
       "2       57.142857             1.0  \n",
       "3       32.285714             1.0  \n",
       "4       23.142857             1.0  "
      ]
     },
     "execution_count": 11,
     "metadata": {},
     "output_type": "execute_result"
    }
   ],
   "source": [
    "df.head()"
   ]
  },
  {
   "cell_type": "code",
   "execution_count": 9,
   "id": "431d2eba",
   "metadata": {},
   "outputs": [],
   "source": [
    "#Average sales per day assuming its weekly sales\n",
    "df['AvgSalesPerDay'] = df['UnitsSold'] / 7"
   ]
  },
  {
   "cell_type": "code",
   "execution_count": 10,
   "id": "be8fb930",
   "metadata": {},
   "outputs": [],
   "source": [
    "#promo frequemcy:\n",
    "promo_freq = df.groupby('ProductID')['OnPromotion'].mean().reset_index()\n",
    "promo_freq.columns = ['ProductID', 'PromoFrequency']\n",
    "df = df.merge(promo_freq, on='ProductID', how='left')"
   ]
  },
  {
   "cell_type": "code",
   "execution_count": 12,
   "id": "d4b8f34f",
   "metadata": {},
   "outputs": [],
   "source": [
    "#Scaling:\n",
    "scaler = MinMaxScaler()\n",
    "scaled_cols = ['UnitsSold', 'AvgSalesPerDay', 'PromoFrequency']\n",
    "\n",
    "df_scaled = df.copy()\n",
    "df_scaled[scaled_cols] = scaler.fit_transform(df[scaled_cols])"
   ]
  },
  {
   "cell_type": "code",
   "execution_count": 13,
   "id": "c51902ed",
   "metadata": {},
   "outputs": [
    {
     "data": {
      "text/html": [
       "<div>\n",
       "<style scoped>\n",
       "    .dataframe tbody tr th:only-of-type {\n",
       "        vertical-align: middle;\n",
       "    }\n",
       "\n",
       "    .dataframe tbody tr th {\n",
       "        vertical-align: top;\n",
       "    }\n",
       "\n",
       "    .dataframe thead th {\n",
       "        text-align: right;\n",
       "    }\n",
       "</style>\n",
       "<table border=\"1\" class=\"dataframe\">\n",
       "  <thead>\n",
       "    <tr style=\"text-align: right;\">\n",
       "      <th></th>\n",
       "      <th>ProductID</th>\n",
       "      <th>ProductType</th>\n",
       "      <th>Region</th>\n",
       "      <th>UnitsSold</th>\n",
       "      <th>OnPromotion</th>\n",
       "      <th>DemandCategory</th>\n",
       "      <th>ProductType_Encoded</th>\n",
       "      <th>Region_Encoded</th>\n",
       "      <th>DemandCategory_Encoded</th>\n",
       "      <th>AvgSalesPerDay</th>\n",
       "      <th>PromoFrequency</th>\n",
       "    </tr>\n",
       "  </thead>\n",
       "  <tbody>\n",
       "    <tr>\n",
       "      <th>0</th>\n",
       "      <td>edb820</td>\n",
       "      <td>Clothing</td>\n",
       "      <td>West</td>\n",
       "      <td>0.610063</td>\n",
       "      <td>0</td>\n",
       "      <td>High</td>\n",
       "      <td>1</td>\n",
       "      <td>3</td>\n",
       "      <td>0</td>\n",
       "      <td>0.610063</td>\n",
       "      <td>0.0</td>\n",
       "    </tr>\n",
       "    <tr>\n",
       "      <th>1</th>\n",
       "      <td>5b31ca</td>\n",
       "      <td>Gadget</td>\n",
       "      <td>West</td>\n",
       "      <td>0.452830</td>\n",
       "      <td>1</td>\n",
       "      <td>High</td>\n",
       "      <td>2</td>\n",
       "      <td>3</td>\n",
       "      <td>0</td>\n",
       "      <td>0.452830</td>\n",
       "      <td>1.0</td>\n",
       "    </tr>\n",
       "    <tr>\n",
       "      <th>2</th>\n",
       "      <td>30d43e</td>\n",
       "      <td>Clothing</td>\n",
       "      <td>West</td>\n",
       "      <td>0.807128</td>\n",
       "      <td>1</td>\n",
       "      <td>High</td>\n",
       "      <td>1</td>\n",
       "      <td>3</td>\n",
       "      <td>0</td>\n",
       "      <td>0.807128</td>\n",
       "      <td>1.0</td>\n",
       "    </tr>\n",
       "    <tr>\n",
       "      <th>3</th>\n",
       "      <td>fd9f14</td>\n",
       "      <td>Gadget</td>\n",
       "      <td>East</td>\n",
       "      <td>0.442348</td>\n",
       "      <td>1</td>\n",
       "      <td>High</td>\n",
       "      <td>2</td>\n",
       "      <td>0</td>\n",
       "      <td>0</td>\n",
       "      <td>0.442348</td>\n",
       "      <td>1.0</td>\n",
       "    </tr>\n",
       "    <tr>\n",
       "      <th>4</th>\n",
       "      <td>5e999c</td>\n",
       "      <td>Clothing</td>\n",
       "      <td>West</td>\n",
       "      <td>0.308176</td>\n",
       "      <td>1</td>\n",
       "      <td>Medium</td>\n",
       "      <td>1</td>\n",
       "      <td>3</td>\n",
       "      <td>2</td>\n",
       "      <td>0.308176</td>\n",
       "      <td>1.0</td>\n",
       "    </tr>\n",
       "  </tbody>\n",
       "</table>\n",
       "</div>"
      ],
      "text/plain": [
       "  ProductID ProductType Region  UnitsSold  OnPromotion DemandCategory  \\\n",
       "0    edb820    Clothing   West   0.610063            0           High   \n",
       "1    5b31ca      Gadget   West   0.452830            1           High   \n",
       "2    30d43e    Clothing   West   0.807128            1           High   \n",
       "3    fd9f14      Gadget   East   0.442348            1           High   \n",
       "4    5e999c    Clothing   West   0.308176            1         Medium   \n",
       "\n",
       "   ProductType_Encoded  Region_Encoded  DemandCategory_Encoded  \\\n",
       "0                    1               3                       0   \n",
       "1                    2               3                       0   \n",
       "2                    1               3                       0   \n",
       "3                    2               0                       0   \n",
       "4                    1               3                       2   \n",
       "\n",
       "   AvgSalesPerDay  PromoFrequency  \n",
       "0        0.610063             0.0  \n",
       "1        0.452830             1.0  \n",
       "2        0.807128             1.0  \n",
       "3        0.442348             1.0  \n",
       "4        0.308176             1.0  "
      ]
     },
     "execution_count": 13,
     "metadata": {},
     "output_type": "execute_result"
    }
   ],
   "source": [
    "df_scaled.head()"
   ]
  },
  {
   "cell_type": "code",
   "execution_count": 15,
   "id": "e7d0f70b",
   "metadata": {},
   "outputs": [],
   "source": [
    "features = ['UnitsSold', 'AvgSalesPerDay', 'PromoFrequency', \n",
    "            'ProductType_Encoded', 'Region_Encoded']\n",
    "target = 'DemandCategory_Encoded'"
   ]
  },
  {
   "cell_type": "code",
   "execution_count": 24,
   "id": "63dd14a5",
   "metadata": {},
   "outputs": [],
   "source": [
    "# Encoding target (High = 0, Medium = 1, Low = 2)\n",
    "if target not in df.columns:\n",
    "    le_target = LabelEncoder()\n",
    "    df[target] = le_target.fit_transform(df['DemandCategory'])"
   ]
  },
  {
   "cell_type": "code",
   "execution_count": 25,
   "id": "cf59102b",
   "metadata": {},
   "outputs": [],
   "source": [
    "#X-y Splitting\n",
    "X = df[features]\n",
    "y = df[target]"
   ]
  },
  {
   "cell_type": "code",
   "execution_count": 26,
   "id": "1c1e4e53",
   "metadata": {},
   "outputs": [],
   "source": [
    "#Train-Test split\n",
    "X_train, X_test, y_train, y_test = train_test_split(X, y, test_size=0.2, random_state=42)\n"
   ]
  },
  {
   "cell_type": "code",
   "execution_count": 27,
   "id": "2c30bd7e",
   "metadata": {},
   "outputs": [],
   "source": [
    "#build Random forest\n",
    "rf_model = RandomForestClassifier(random_state=42)\n",
    "rf_model.fit(X_train, y_train)\n",
    "rf_preds = rf_model.predict(X_test)"
   ]
  },
  {
   "cell_type": "code",
   "execution_count": 29,
   "id": "4706556b",
   "metadata": {},
   "outputs": [
    {
     "name": "stdout",
     "output_type": "stream",
     "text": [
      "\n",
      "🎯 Random Forest Classification Report:\n",
      "              precision    recall  f1-score   support\n",
      "\n",
      "           0       0.25      0.50      0.33         2\n",
      "           1       0.50      0.33      0.40         3\n",
      "           2       0.75      0.60      0.67         5\n",
      "\n",
      "    accuracy                           0.50        10\n",
      "   macro avg       0.50      0.48      0.47        10\n",
      "weighted avg       0.57      0.50      0.52        10\n",
      "\n"
     ]
    }
   ],
   "source": [
    "print(\"\\n🎯 Random Forest Classification Report:\")\n",
    "print(classification_report(y_test, rf_preds))"
   ]
  },
  {
   "cell_type": "code",
   "execution_count": 30,
   "id": "782ffa33",
   "metadata": {},
   "outputs": [],
   "source": [
    "#SVM model\n",
    "svm_model = SVC(kernel='linear')  # Linear SVM for interpretability\n",
    "svm_model.fit(X_train, y_train)\n",
    "svm_preds = svm_model.predict(X_test)"
   ]
  },
  {
   "cell_type": "code",
   "execution_count": 31,
   "id": "8bc45232",
   "metadata": {},
   "outputs": [
    {
     "name": "stdout",
     "output_type": "stream",
     "text": [
      "\n",
      "🎯 SVM Classification Report:\n",
      "              precision    recall  f1-score   support\n",
      "\n",
      "           0       0.00      0.00      0.00         2\n",
      "           1       0.50      0.33      0.40         3\n",
      "           2       0.50      0.40      0.44         5\n",
      "\n",
      "    accuracy                           0.30        10\n",
      "   macro avg       0.33      0.24      0.28        10\n",
      "weighted avg       0.40      0.30      0.34        10\n",
      "\n"
     ]
    }
   ],
   "source": [
    "print(\"\\n🎯 SVM Classification Report:\")\n",
    "print(classification_report(y_test, svm_preds))"
   ]
  }
 ],
 "metadata": {
  "kernelspec": {
   "display_name": "machinelearningenv",
   "language": "python",
   "name": "python3"
  },
  "language_info": {
   "codemirror_mode": {
    "name": "ipython",
    "version": 3
   },
   "file_extension": ".py",
   "mimetype": "text/x-python",
   "name": "python",
   "nbconvert_exporter": "python",
   "pygments_lexer": "ipython3",
   "version": "3.12.9"
  }
 },
 "nbformat": 4,
 "nbformat_minor": 5
}
